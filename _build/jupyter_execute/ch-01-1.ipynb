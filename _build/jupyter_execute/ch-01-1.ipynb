{
 "cells": [
  {
   "cell_type": "markdown",
   "id": "724d2d7b",
   "metadata": {},
   "source": [
    "# An Example SubSection"
   ]
  },
  {
   "cell_type": "code",
   "execution_count": 1,
   "id": "d8cb23a1",
   "metadata": {},
   "outputs": [],
   "source": [
    "import pandas as pd\n",
    "import numpy as np\n",
    "import matplotlib.pyplot as plt"
   ]
  },
  {
   "cell_type": "markdown",
   "id": "9cb6f199",
   "metadata": {},
   "source": [
    "This is a subsection that is actually a Jupyter Notebook (rather than a Markdown file). The benefit of these types of files is that you can actually show code and its corresponding output.\n",
    "\n",
    "For example, we could show how to load a csv file and visualize it. The following dataset was obtained through the wooldridge library and is the _wage1_ dataset."
   ]
  },
  {
   "cell_type": "code",
   "execution_count": 2,
   "id": "83b76c7e",
   "metadata": {},
   "outputs": [
    {
     "data": {
      "text/html": [
       "<div>\n",
       "<style scoped>\n",
       "    .dataframe tbody tr th:only-of-type {\n",
       "        vertical-align: middle;\n",
       "    }\n",
       "\n",
       "    .dataframe tbody tr th {\n",
       "        vertical-align: top;\n",
       "    }\n",
       "\n",
       "    .dataframe thead th {\n",
       "        text-align: right;\n",
       "    }\n",
       "</style>\n",
       "<table border=\"1\" class=\"dataframe\">\n",
       "  <thead>\n",
       "    <tr style=\"text-align: right;\">\n",
       "      <th></th>\n",
       "      <th>wage</th>\n",
       "      <th>educ</th>\n",
       "      <th>exper</th>\n",
       "      <th>tenure</th>\n",
       "    </tr>\n",
       "  </thead>\n",
       "  <tbody>\n",
       "    <tr>\n",
       "      <th>0</th>\n",
       "      <td>3.10</td>\n",
       "      <td>11</td>\n",
       "      <td>2</td>\n",
       "      <td>0</td>\n",
       "    </tr>\n",
       "    <tr>\n",
       "      <th>1</th>\n",
       "      <td>3.24</td>\n",
       "      <td>12</td>\n",
       "      <td>22</td>\n",
       "      <td>2</td>\n",
       "    </tr>\n",
       "    <tr>\n",
       "      <th>2</th>\n",
       "      <td>3.00</td>\n",
       "      <td>11</td>\n",
       "      <td>2</td>\n",
       "      <td>0</td>\n",
       "    </tr>\n",
       "    <tr>\n",
       "      <th>3</th>\n",
       "      <td>6.00</td>\n",
       "      <td>8</td>\n",
       "      <td>44</td>\n",
       "      <td>28</td>\n",
       "    </tr>\n",
       "    <tr>\n",
       "      <th>4</th>\n",
       "      <td>5.30</td>\n",
       "      <td>12</td>\n",
       "      <td>7</td>\n",
       "      <td>2</td>\n",
       "    </tr>\n",
       "  </tbody>\n",
       "</table>\n",
       "</div>"
      ],
      "text/plain": [
       "   wage  educ  exper  tenure\n",
       "0  3.10    11      2       0\n",
       "1  3.24    12     22       2\n",
       "2  3.00    11      2       0\n",
       "3  6.00     8     44      28\n",
       "4  5.30    12      7       2"
      ]
     },
     "execution_count": 2,
     "metadata": {},
     "output_type": "execute_result"
    }
   ],
   "source": [
    "wages = pd.read_csv(\"wage.csv\")\n",
    "wages = wages[[\"wage\", \"educ\", \"exper\", \"tenure\"]]\n",
    "wages.head()"
   ]
  },
  {
   "cell_type": "markdown",
   "id": "123dc881",
   "metadata": {},
   "source": [
    "## An A/B Test\n",
    "\n",
    "A Jupyter Notebook can be incredibly helpful if we want to demonstrate some process and walk students through it. Let's do a hypothesis test using the `wage` dataset we just loaded in.\n",
    "\n",
    "- **Null hypothesis**: The true wage distribution of those who completed high school is the same as the true wage distribution of those who _did not_ complete high school.\n",
    "\n",
    "- **Alternative hypothesis**: The average wage of those who completed high school is _larger than_ the average wage of those who did not complete high school.\n",
    "\n",
    "- **Test statistic**: The difference in average wages for those who completed high school and those who did not.\n",
    "\n",
    "For simplicity's sake, let's assume that having 12 years of education means that one completed high school."
   ]
  },
  {
   "cell_type": "code",
   "execution_count": 3,
   "id": "83ebfbb0",
   "metadata": {},
   "outputs": [
    {
     "data": {
      "text/plain": [
       "(526, 4)"
      ]
     },
     "execution_count": 3,
     "metadata": {},
     "output_type": "execute_result"
    }
   ],
   "source": [
    "wages.shape"
   ]
  },
  {
   "cell_type": "code",
   "execution_count": 4,
   "id": "44028416",
   "metadata": {},
   "outputs": [
    {
     "data": {
      "text/html": [
       "<div>\n",
       "<style scoped>\n",
       "    .dataframe tbody tr th:only-of-type {\n",
       "        vertical-align: middle;\n",
       "    }\n",
       "\n",
       "    .dataframe tbody tr th {\n",
       "        vertical-align: top;\n",
       "    }\n",
       "\n",
       "    .dataframe thead th {\n",
       "        text-align: right;\n",
       "    }\n",
       "</style>\n",
       "<table border=\"1\" class=\"dataframe\">\n",
       "  <thead>\n",
       "    <tr style=\"text-align: right;\">\n",
       "      <th></th>\n",
       "      <th>wage</th>\n",
       "      <th>educ</th>\n",
       "      <th>exper</th>\n",
       "      <th>tenure</th>\n",
       "      <th>hs degree</th>\n",
       "    </tr>\n",
       "  </thead>\n",
       "  <tbody>\n",
       "    <tr>\n",
       "      <th>0</th>\n",
       "      <td>3.10</td>\n",
       "      <td>11</td>\n",
       "      <td>2</td>\n",
       "      <td>0</td>\n",
       "      <td>False</td>\n",
       "    </tr>\n",
       "    <tr>\n",
       "      <th>1</th>\n",
       "      <td>3.24</td>\n",
       "      <td>12</td>\n",
       "      <td>22</td>\n",
       "      <td>2</td>\n",
       "      <td>True</td>\n",
       "    </tr>\n",
       "    <tr>\n",
       "      <th>2</th>\n",
       "      <td>3.00</td>\n",
       "      <td>11</td>\n",
       "      <td>2</td>\n",
       "      <td>0</td>\n",
       "      <td>False</td>\n",
       "    </tr>\n",
       "    <tr>\n",
       "      <th>3</th>\n",
       "      <td>6.00</td>\n",
       "      <td>8</td>\n",
       "      <td>44</td>\n",
       "      <td>28</td>\n",
       "      <td>False</td>\n",
       "    </tr>\n",
       "    <tr>\n",
       "      <th>4</th>\n",
       "      <td>5.30</td>\n",
       "      <td>12</td>\n",
       "      <td>7</td>\n",
       "      <td>2</td>\n",
       "      <td>True</td>\n",
       "    </tr>\n",
       "  </tbody>\n",
       "</table>\n",
       "</div>"
      ],
      "text/plain": [
       "   wage  educ  exper  tenure  hs degree\n",
       "0  3.10    11      2       0      False\n",
       "1  3.24    12     22       2       True\n",
       "2  3.00    11      2       0      False\n",
       "3  6.00     8     44      28      False\n",
       "4  5.30    12      7       2       True"
      ]
     },
     "execution_count": 4,
     "metadata": {},
     "output_type": "execute_result"
    }
   ],
   "source": [
    "wages[\"hs degree\"] = (wages[\"educ\"] >= 12)\n",
    "wages.head()"
   ]
  },
  {
   "cell_type": "code",
   "execution_count": 5,
   "id": "59e69aa8",
   "metadata": {},
   "outputs": [
    {
     "data": {
      "text/html": [
       "<div>\n",
       "<style scoped>\n",
       "    .dataframe tbody tr th:only-of-type {\n",
       "        vertical-align: middle;\n",
       "    }\n",
       "\n",
       "    .dataframe tbody tr th {\n",
       "        vertical-align: top;\n",
       "    }\n",
       "\n",
       "    .dataframe thead th {\n",
       "        text-align: right;\n",
       "    }\n",
       "</style>\n",
       "<table border=\"1\" class=\"dataframe\">\n",
       "  <thead>\n",
       "    <tr style=\"text-align: right;\">\n",
       "      <th></th>\n",
       "      <th>wage</th>\n",
       "      <th>educ</th>\n",
       "      <th>exper</th>\n",
       "      <th>tenure</th>\n",
       "    </tr>\n",
       "    <tr>\n",
       "      <th>hs degree</th>\n",
       "      <th></th>\n",
       "      <th></th>\n",
       "      <th></th>\n",
       "      <th></th>\n",
       "    </tr>\n",
       "  </thead>\n",
       "  <tbody>\n",
       "    <tr>\n",
       "      <th>False</th>\n",
       "      <td>4.056724</td>\n",
       "      <td>8.913793</td>\n",
       "      <td>20.948276</td>\n",
       "      <td>5.939655</td>\n",
       "    </tr>\n",
       "    <tr>\n",
       "      <th>True</th>\n",
       "      <td>6.416512</td>\n",
       "      <td>13.595122</td>\n",
       "      <td>15.904878</td>\n",
       "      <td>4.868293</td>\n",
       "    </tr>\n",
       "  </tbody>\n",
       "</table>\n",
       "</div>"
      ],
      "text/plain": [
       "               wage       educ      exper    tenure\n",
       "hs degree                                          \n",
       "False      4.056724   8.913793  20.948276  5.939655\n",
       "True       6.416512  13.595122  15.904878  4.868293"
      ]
     },
     "execution_count": 5,
     "metadata": {},
     "output_type": "execute_result"
    }
   ],
   "source": [
    "by_hs_degree = wages.groupby(\"hs degree\").mean()\n",
    "by_hs_degree"
   ]
  },
  {
   "cell_type": "code",
   "execution_count": 6,
   "id": "00b234bd",
   "metadata": {},
   "outputs": [
    {
     "data": {
      "text/plain": [
       "2.3597880525434585"
      ]
     },
     "execution_count": 6,
     "metadata": {},
     "output_type": "execute_result"
    }
   ],
   "source": [
    "obs_stat = by_hs_degree[\"wage\"][1] - by_hs_degree[\"wage\"][0]\n",
    "obs_stat"
   ]
  },
  {
   "cell_type": "code",
   "execution_count": 7,
   "id": "15fbf360",
   "metadata": {},
   "outputs": [
    {
     "ename": "TypeError",
     "evalue": "sample() got an unexpected keyword argument 'ignore_index'",
     "output_type": "error",
     "traceback": [
      "\u001b[0;31m---------------------------------------------------------------------------\u001b[0m",
      "\u001b[0;31mTypeError\u001b[0m                                 Traceback (most recent call last)",
      "\u001b[0;32m<ipython-input-7-6ef4a9837437>\u001b[0m in \u001b[0;36m<module>\u001b[0;34m\u001b[0m\n\u001b[1;32m      2\u001b[0m \u001b[0;34m\u001b[0m\u001b[0m\n\u001b[1;32m      3\u001b[0m \u001b[0;32mfor\u001b[0m \u001b[0mi\u001b[0m \u001b[0;32min\u001b[0m \u001b[0mrange\u001b[0m\u001b[0;34m(\u001b[0m\u001b[0;36m5000\u001b[0m\u001b[0;34m)\u001b[0m\u001b[0;34m:\u001b[0m\u001b[0;34m\u001b[0m\u001b[0;34m\u001b[0m\u001b[0m\n\u001b[0;32m----> 4\u001b[0;31m     \u001b[0mwages\u001b[0m\u001b[0;34m[\u001b[0m\u001b[0;34m\"shuffle\"\u001b[0m\u001b[0;34m]\u001b[0m \u001b[0;34m=\u001b[0m \u001b[0mwages\u001b[0m\u001b[0;34m[\u001b[0m\u001b[0;34m\"hs degree\"\u001b[0m\u001b[0;34m]\u001b[0m\u001b[0;34m.\u001b[0m\u001b[0msample\u001b[0m\u001b[0;34m(\u001b[0m\u001b[0mn\u001b[0m\u001b[0;34m=\u001b[0m\u001b[0;36m526\u001b[0m\u001b[0;34m,\u001b[0m \u001b[0mignore_index\u001b[0m\u001b[0;34m=\u001b[0m\u001b[0;32mTrue\u001b[0m\u001b[0;34m)\u001b[0m\u001b[0;34m\u001b[0m\u001b[0;34m\u001b[0m\u001b[0m\n\u001b[0m\u001b[1;32m      5\u001b[0m     \u001b[0mavg_wages\u001b[0m \u001b[0;34m=\u001b[0m \u001b[0mwages\u001b[0m\u001b[0;34m.\u001b[0m\u001b[0mgroupby\u001b[0m\u001b[0;34m(\u001b[0m\u001b[0;34m\"shuffle\"\u001b[0m\u001b[0;34m)\u001b[0m\u001b[0;34m.\u001b[0m\u001b[0mmean\u001b[0m\u001b[0;34m(\u001b[0m\u001b[0;34m)\u001b[0m\u001b[0;34m[\u001b[0m\u001b[0;34m\"wage\"\u001b[0m\u001b[0;34m]\u001b[0m\u001b[0;34m\u001b[0m\u001b[0;34m\u001b[0m\u001b[0m\n\u001b[1;32m      6\u001b[0m     \u001b[0msimulated_stats\u001b[0m \u001b[0;34m+=\u001b[0m \u001b[0;34m[\u001b[0m\u001b[0mavg_wages\u001b[0m\u001b[0;34m[\u001b[0m\u001b[0;36m1\u001b[0m\u001b[0;34m]\u001b[0m \u001b[0;34m-\u001b[0m \u001b[0mavg_wages\u001b[0m\u001b[0;34m[\u001b[0m\u001b[0;36m0\u001b[0m\u001b[0;34m]\u001b[0m\u001b[0;34m]\u001b[0m\u001b[0;34m\u001b[0m\u001b[0;34m\u001b[0m\u001b[0m\n",
      "\u001b[0;31mTypeError\u001b[0m: sample() got an unexpected keyword argument 'ignore_index'"
     ]
    }
   ],
   "source": [
    "simulated_stats = []\n",
    "\n",
    "for i in range(5000):\n",
    "    wages[\"shuffle\"] = wages[\"hs degree\"].sample(n=526, ignore_index=True)\n",
    "    avg_wages = wages.groupby(\"shuffle\").mean()[\"wage\"]\n",
    "    simulated_stats += [avg_wages[1] - avg_wages[0]]"
   ]
  },
  {
   "cell_type": "code",
   "execution_count": 8,
   "id": "0487a9c1",
   "metadata": {},
   "outputs": [
    {
     "data": {
      "image/png": "[encoded data removed]",
      "text/plain": [
       "<Figure size 640x480 with 1 Axes>"
      ]
     },
     "metadata": {},
     "output_type": "display_data"
    }
   ],
   "source": [
    "plt.hist(simulated_stats)\n",
    "plt.xlabel(\"Simulated Test Statistic\");"
   ]
  },
  {
   "cell_type": "code",
   "execution_count": null,
   "id": "dcec74a7",
   "metadata": {},
   "outputs": [
    {
     "data": {
      "text/plain": [
       "0"
      ]
     },
     "execution_count": 9,
     "metadata": {},
     "output_type": "execute_result"
    }
   ],
   "source": [
    "p_val = np.count_nonzero(simulated_stats >= obs_stat) / 5000\n",
    "p_val"
   ]
  },
  {
   "cell_type": "markdown",
   "id": "2ef996d3",
   "metadata": {},
   "source": [
    "The p-value of this test was 0%, which leads us to reject the null hypothesis at every single p-value cutoff."
   ]
  }
 ],
 "metadata": {
  "kernelspec": {
   "display_name": "Python 3 (ipykernel)",
   "language": "python",
   "name": "python3"
  },
  "language_info": {
   "codemirror_mode": {
    "name": "ipython",
    "version": 3
   },
   "file_extension": ".py",
   "mimetype": "text/x-python",
   "name": "python",
   "nbconvert_exporter": "python",
   "pygments_lexer": "ipython3",
   "version": "3.8.8"
  }
 },
 "nbformat": 4,
 "nbformat_minor": 5
}